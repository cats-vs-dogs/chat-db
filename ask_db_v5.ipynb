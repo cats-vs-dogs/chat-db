{
 "cells": [
  {
   "cell_type": "code",
   "execution_count": 1,
   "id": "c3057dfb-5f39-43c6-8332-13f93693c895",
   "metadata": {
    "execution": {
     "iopub.execute_input": "2023-08-02T17:50:40.397734Z",
     "iopub.status.busy": "2023-08-02T17:50:40.397301Z",
     "iopub.status.idle": "2023-08-02T17:50:43.558980Z",
     "shell.execute_reply": "2023-08-02T17:50:43.558364Z",
     "shell.execute_reply.started": "2023-08-02T17:50:40.397659Z"
    },
    "tags": []
   },
   "outputs": [],
   "source": [
    "from langchain.llms import OpenAI\n",
    "from langchain.chat_models import ChatOpenAI\n",
    "from langchain.sql_database import SQLDatabase\n",
    "from langchain_experimental.sql import SQLDatabaseChain\n",
    "from langchain.agents import initialize_agent, Tool\n",
    "from langchain.agents import load_tools\n",
    "from langchain.memory import ConversationBufferMemory\n",
    "\n",
    "from rw_formula import RW_Calc2"
   ]
  },
  {
   "cell_type": "code",
   "execution_count": 2,
   "id": "799e80ad-4d2e-4ded-8816-d198d6ceeead",
   "metadata": {
    "execution": {
     "iopub.execute_input": "2023-08-02T17:50:45.360260Z",
     "iopub.status.busy": "2023-08-02T17:50:45.359729Z",
     "iopub.status.idle": "2023-08-02T17:50:45.368738Z",
     "shell.execute_reply": "2023-08-02T17:50:45.368172Z",
     "shell.execute_reply.started": "2023-08-02T17:50:45.360232Z"
    },
    "tags": []
   },
   "outputs": [],
   "source": [
    "import os\n",
    "from dotenv import load_dotenv\n",
    "load_dotenv()\n",
    "OPENAI_API_KEY = os.getenv('OPENAI_API_KEY')"
   ]
  },
  {
   "cell_type": "code",
   "execution_count": 3,
   "id": "2a86fd68-00a1-4b1a-92af-1fec1778610c",
   "metadata": {
    "execution": {
     "iopub.execute_input": "2023-08-02T17:50:47.393068Z",
     "iopub.status.busy": "2023-08-02T17:50:47.392683Z",
     "iopub.status.idle": "2023-08-02T17:50:47.420760Z",
     "shell.execute_reply": "2023-08-02T17:50:47.420064Z",
     "shell.execute_reply.started": "2023-08-02T17:50:47.393045Z"
    },
    "tags": []
   },
   "outputs": [],
   "source": [
    "llm = OpenAI(temperature=0)\n",
    "# llm = ChatOpenAI(temperature=0, model=\"gpt-3.5-turbo-0613\")\n",
    "db = SQLDatabase.from_uri(\"sqlite:///./rwa_data.db\")\n",
    "db_chain = SQLDatabaseChain.from_llm(llm, db, verbose=True)\n",
    "tools = [\n",
    "    Tool(\n",
    "        name=\"risk weight calculator\",\n",
    "        func=RW_Calc2,\n",
    "        description=\n",
    "        \"\"\"calculates a loan risk weight give the argulamts: \n",
    "        Segment - Possible values are 'Bank', 'Corporate', and 'Retail'), \n",
    "        PD - Probability of Default\n",
    "        LGD - Loss Given Default\n",
    "        m - Remaining maturity of the loan in years\n",
    "        Large_Fin - If 'Y' the client is a Flag for Large Financial Institution, otherwise 'N'\n",
    "        size - size of the client in MEUR, usually this is the client's turnover\n",
    "        mortgage - If 'Y' the exposure is a mortgage loan, otherwise 'N'\n",
    "        revolving - If 'Y' the exposure is a revolving loan, otherwise 'N'\n",
    "        \"\"\"\n",
    "    ),     \n",
    "    Tool(\n",
    "        name=\"rwa_db\",\n",
    "        func=db_chain.run,\n",
    "        description=\"useful for quering a database\"\n",
    "    )\n",
    "]"
   ]
  },
  {
   "cell_type": "code",
   "execution_count": 4,
   "id": "db4186bc-3246-4506-b113-043c46fd212a",
   "metadata": {
    "execution": {
     "iopub.execute_input": "2023-08-02T17:50:51.497589Z",
     "iopub.status.busy": "2023-08-02T17:50:51.497195Z",
     "iopub.status.idle": "2023-08-02T17:50:51.501490Z",
     "shell.execute_reply": "2023-08-02T17:50:51.500787Z",
     "shell.execute_reply.started": "2023-08-02T17:50:51.497564Z"
    },
    "tags": []
   },
   "outputs": [],
   "source": [
    "memory = ConversationBufferMemory(memory_key=\"chat_history\")"
   ]
  },
  {
   "cell_type": "code",
   "execution_count": 5,
   "id": "7256bce6-329f-4e44-98a1-52675f6dc972",
   "metadata": {
    "execution": {
     "iopub.execute_input": "2023-08-02T17:50:52.537367Z",
     "iopub.status.busy": "2023-08-02T17:50:52.536986Z",
     "iopub.status.idle": "2023-08-02T17:50:52.541620Z",
     "shell.execute_reply": "2023-08-02T17:50:52.540865Z",
     "shell.execute_reply.started": "2023-08-02T17:50:52.537343Z"
    },
    "tags": []
   },
   "outputs": [],
   "source": [
    "agent = initialize_agent(\n",
    "    agent='conversational-react-description', \n",
    "    tools=tools, \n",
    "    llm=llm,\n",
    "    verbose=True,\n",
    "    max_iterations=5,\n",
    "    memory=memory,\n",
    "    handle_parsing_errors=True\n",
    ")"
   ]
  },
  {
   "cell_type": "code",
   "execution_count": 6,
   "id": "a9d80bc7-1401-495d-ba4b-2014ba2e3abe",
   "metadata": {
    "execution": {
     "iopub.execute_input": "2023-08-02T17:50:55.693342Z",
     "iopub.status.busy": "2023-08-02T17:50:55.692963Z",
     "iopub.status.idle": "2023-08-02T17:51:02.568791Z",
     "shell.execute_reply": "2023-08-02T17:51:02.568134Z",
     "shell.execute_reply.started": "2023-08-02T17:50:55.693319Z"
    },
    "tags": []
   },
   "outputs": [
    {
     "name": "stdout",
     "output_type": "stream",
     "text": [
      "\n",
      "\n",
      "\u001b[1m> Entering new AgentExecutor chain...\u001b[0m\n",
      "\u001b[32;1m\u001b[1;3m\n",
      "Thought: Do I need to use a tool? Yes\n",
      "Action: rwa_db\n",
      "Action Input: SELECT SUM(RWA) AS RWA, SUM(EAD) AS EAD FROM RWA_122022 GROUP BY SEGMENT\u001b[0m\n",
      "\n",
      "\u001b[1m> Entering new SQLDatabaseChain chain...\u001b[0m\n",
      "SELECT SUM(RWA) AS RWA, SUM(EAD) AS EAD FROM RWA_122022 GROUP BY SEGMENT\n",
      "SQLQuery:\u001b[32;1m\u001b[1;3mSELECT SUM(RWA) AS RWA, SUM(EAD) AS EAD FROM \"RWA_122022\" GROUP BY \"SEGMENT\" LIMIT 5;\u001b[0m\n",
      "SQLResult: \u001b[33;1m\u001b[1;3m[(85075812.12498187, 156657332.34921697), (37806680.90001285, 165698955.81288758)]\u001b[0m\n",
      "Answer:\u001b[32;1m\u001b[1;3mThe total RWA and EAD for the RWA_122022 table grouped by segment are 85075812.12498187 and 156657332.34921697 respectively.\u001b[0m\n",
      "\u001b[1m> Finished chain.\u001b[0m\n",
      "\n",
      "Observation: \u001b[33;1m\u001b[1;3mThe total RWA and EAD for the RWA_122022 table grouped by segment are 85075812.12498187 and 156657332.34921697 respectively.\u001b[0m\n",
      "Thought:\u001b[32;1m\u001b[1;3m Do I need to use a tool? No\n",
      "AI: Is there anything else I can help you with?\u001b[0m\n",
      "\n",
      "\u001b[1m> Finished chain.\u001b[0m\n"
     ]
    },
    {
     "data": {
      "text/plain": [
       "'Is there anything else I can help you with?'"
      ]
     },
     "execution_count": 6,
     "metadata": {},
     "output_type": "execute_result"
    }
   ],
   "source": [
    "agent.run(\"Report the total RWA and EAD per SEGMENT from RWA_122022 table\")"
   ]
  },
  {
   "cell_type": "code",
   "execution_count": 7,
   "id": "824be0ea-380f-43d0-8ec4-21cdae090c55",
   "metadata": {
    "execution": {
     "iopub.execute_input": "2023-08-02T17:51:06.711417Z",
     "iopub.status.busy": "2023-08-02T17:51:06.711023Z",
     "iopub.status.idle": "2023-08-02T17:51:23.162685Z",
     "shell.execute_reply": "2023-08-02T17:51:23.162006Z",
     "shell.execute_reply.started": "2023-08-02T17:51:06.711392Z"
    },
    "tags": []
   },
   "outputs": [
    {
     "name": "stdout",
     "output_type": "stream",
     "text": [
      "\n",
      "\n",
      "\u001b[1m> Entering new AgentExecutor chain...\u001b[0m\n",
      "\u001b[32;1m\u001b[1;3m\n",
      "Thought: Do I need to use a tool? Yes\n",
      "Action: rwa_db\n",
      "Action Input: Read the information for Client 'sfman997ux8036' in RWA_122022 table\u001b[0m\n",
      "\n",
      "\u001b[1m> Entering new SQLDatabaseChain chain...\u001b[0m\n",
      "Read the information for Client 'sfman997ux8036' in RWA_122022 table\n",
      "SQLQuery:\u001b[32;1m\u001b[1;3mSELECT \"CLIENT_NUMBER\", \"ACCOUNT_NUMBER\", \"PRODUCT\", \"STATUS\", \"SEGMENT\", \"EXPOSURE_DRAWN\", \"EXPOSURE_UNDRAWN\", \"EXPOSURE\", \"EAD\", \"EAD_COLL\", \"PD\", \"LGD\", \"SIZE\", \"MATURITY\", \"F_MORTGAGE\", \"F_REVOLVING\", \"F_LARGE_FIN\", \"RW\", \"RWA\" FROM \"RWA_122022\" WHERE \"CLIENT_NUMBER\" = 'sfman997ux8036' LIMIT 5;\u001b[0m\n",
      "SQLResult: \u001b[33;1m\u001b[1;3m[('sfman997ux8036', '1324710203qiph20', 'CREDIT_CARD', 'Performing', 'Retail', 0.0, 18728.13876, 18728.13876, 11004.65713, 0.0, 0.0246518, 0.3092, 42.58029755, 1.15616438, 'N', 'Y', 'N', 0.245013691, 2696.291657)]\u001b[0m\n",
      "Answer:\u001b[32;1m\u001b[1;3mThe information for Client 'sfman997ux8036' in RWA_122022 table is: Client Number: sfman997ux8036, Account Number: 1324710203qiph20, Product: CREDIT_CARD, Status: Performing, Segment: Retail, Exposure Drawn: 0.0, Exposure Undrawn: 18728.13876, Exposure: 18728.13876, EAD: 11004.65713, EAD_COLL: 0.0, PD: 0.0246518, LGD: 0.3092, Size: 42.58029755, Maturity: 1.15616438, F_Mortgage: N, F_Revolving: Y, F_Large_Fin: N, RW: 0.245013691, RWA: 2696.291657.\u001b[0m\n",
      "\u001b[1m> Finished chain.\u001b[0m\n",
      "\n",
      "Observation: \u001b[33;1m\u001b[1;3mThe information for Client 'sfman997ux8036' in RWA_122022 table is: Client Number: sfman997ux8036, Account Number: 1324710203qiph20, Product: CREDIT_CARD, Status: Performing, Segment: Retail, Exposure Drawn: 0.0, Exposure Undrawn: 18728.13876, Exposure: 18728.13876, EAD: 11004.65713, EAD_COLL: 0.0, PD: 0.0246518, LGD: 0.3092, Size: 42.58029755, Maturity: 1.15616438, F_Mortgage: N, F_Revolving: Y, F_Large_Fin: N, RW: 0.245013691, RWA: 2696.291657.\u001b[0m\n",
      "Thought:\u001b[32;1m\u001b[1;3m Do I need to use a tool? Yes\n",
      "Action: risk weight calculator\n",
      "Action Input: Segment: Retail, PD: 0.0493036, LGD: 0.3092, m: 1.15616438, Large_Fin: N, size: 42.58029755, mortgage: N, revolving: Y\u001b[0m\n",
      "Observation: \u001b[36;1m\u001b[1;3m0.3950618648985617\u001b[0m\n",
      "Thought:\u001b[32;1m\u001b[1;3m Do I need to use a tool? No\n",
      "AI: The risk weight for the given parameters is 0.3950618648985617. Is there anything else I can help you with?\u001b[0m\n",
      "\n",
      "\u001b[1m> Finished chain.\u001b[0m\n"
     ]
    },
    {
     "data": {
      "text/plain": [
       "'The risk weight for the given parameters is 0.3950618648985617. Is there anything else I can help you with?'"
      ]
     },
     "execution_count": 7,
     "metadata": {},
     "output_type": "execute_result"
    }
   ],
   "source": [
    "agent.run(\"Read the information for Client 'sfman997ux8036' in RWA_122022 table and then calculate the RW if PD doubles\")"
   ]
  },
  {
   "cell_type": "code",
   "execution_count": 8,
   "id": "b5ec3879-a126-4ccc-8030-f8211e5a4d35",
   "metadata": {
    "execution": {
     "iopub.execute_input": "2023-08-02T17:51:27.310478Z",
     "iopub.status.busy": "2023-08-02T17:51:27.309891Z",
     "iopub.status.idle": "2023-08-02T17:51:37.836055Z",
     "shell.execute_reply": "2023-08-02T17:51:37.835313Z",
     "shell.execute_reply.started": "2023-08-02T17:51:27.310436Z"
    },
    "tags": []
   },
   "outputs": [
    {
     "name": "stdout",
     "output_type": "stream",
     "text": [
      "\n",
      "\n",
      "\u001b[1m> Entering new AgentExecutor chain...\u001b[0m\n",
      "\u001b[32;1m\u001b[1;3m\n",
      "Thought: Do I need to use a tool? Yes\n",
      "Action: rwa_db\n",
      "Action Input: Sum of all EXPOSURE in RWA_122022 for all ACCOUNT_NUMBER whose STATUS changed from Performing to Non Performing between RWA_122022 table and RWA_032023 table\u001b[0m\n",
      "\n",
      "\u001b[1m> Entering new SQLDatabaseChain chain...\u001b[0m\n",
      "Sum of all EXPOSURE in RWA_122022 for all ACCOUNT_NUMBER whose STATUS changed from Performing to Non Performing between RWA_122022 table and RWA_032023 table\n",
      "SQLQuery:\u001b[32;1m\u001b[1;3mSELECT SUM(RWA_122022.EXPOSURE) \n",
      "FROM RWA_122022 \n",
      "INNER JOIN RWA_032023 \n",
      "ON RWA_122022.ACCOUNT_NUMBER = RWA_032023.ACCOUNT_NUMBER \n",
      "WHERE RWA_122022.STATUS = 'Performing' \n",
      "AND RWA_032023.STATUS = 'Non Performing'\u001b[0m\n",
      "SQLResult: \u001b[33;1m\u001b[1;3m[(575151.3173016,)]\u001b[0m\n",
      "Answer:\u001b[32;1m\u001b[1;3mThe sum of all EXPOSURE in RWA_122022 for all ACCOUNT_NUMBER whose STATUS changed from Performing to Non Performing between RWA_122022 table and RWA_032023 table is 575151.3173016.\u001b[0m\n",
      "\u001b[1m> Finished chain.\u001b[0m\n",
      "\n",
      "Observation: \u001b[33;1m\u001b[1;3mThe sum of all EXPOSURE in RWA_122022 for all ACCOUNT_NUMBER whose STATUS changed from Performing to Non Performing between RWA_122022 table and RWA_032023 table is 575151.3173016.\u001b[0m\n",
      "Thought:\u001b[32;1m\u001b[1;3m Do I need to use a tool? No\n",
      "AI: Is there anything else I can help you with?\u001b[0m\n",
      "\n",
      "\u001b[1m> Finished chain.\u001b[0m\n"
     ]
    },
    {
     "data": {
      "text/plain": [
       "'Is there anything else I can help you with?'"
      ]
     },
     "execution_count": 8,
     "metadata": {},
     "output_type": "execute_result"
    }
   ],
   "source": [
    "agent.run(\"What is the sum of all EXPOSURE in RWA_122022 for all ACCOUNT_NUMBER whose STATUS changed from Performing to Non Performing between RWA_122022 table and RWA_032023 table\")"
   ]
  },
  {
   "cell_type": "code",
   "execution_count": null,
   "id": "532f2ef9-3bb9-41e0-92ee-6ade7d98a8ca",
   "metadata": {},
   "outputs": [],
   "source": []
  }
 ],
 "metadata": {
  "kernelspec": {
   "display_name": "saturn (Python 3)",
   "language": "python",
   "name": "python3"
  },
  "language_info": {
   "codemirror_mode": {
    "name": "ipython",
    "version": 3
   },
   "file_extension": ".py",
   "mimetype": "text/x-python",
   "name": "python",
   "nbconvert_exporter": "python",
   "pygments_lexer": "ipython3",
   "version": "3.9.13"
  }
 },
 "nbformat": 4,
 "nbformat_minor": 5
}
