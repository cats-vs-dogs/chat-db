{
  "cells": [
    {
      "cell_type": "code",
      "source": [
        "# google colab\n",
        "!pip install openai python-dotenv langchain_experimental"
      ],
      "metadata": {
        "id": "EyqWqQuzNeHj",
        "outputId": "a927de10-4667-476d-9e05-b55e94539338",
        "colab": {
          "base_uri": "https://localhost:8080/"
        }
      },
      "execution_count": 1,
      "outputs": [
        {
          "output_type": "stream",
          "name": "stdout",
          "text": [
            "Collecting openai\n",
            "  Downloading openai-0.27.8-py3-none-any.whl (73 kB)\n",
            "\u001b[2K     \u001b[90m━━━━━━━━━━━━━━━━━━━━━━━━━━━━━━━━━━━━━━━━\u001b[0m \u001b[32m73.6/73.6 kB\u001b[0m \u001b[31m1.4 MB/s\u001b[0m eta \u001b[36m0:00:00\u001b[0m\n",
            "\u001b[?25hCollecting python-dotenv\n",
            "  Downloading python_dotenv-1.0.0-py3-none-any.whl (19 kB)\n",
            "Collecting langchain_experimental\n",
            "  Downloading langchain_experimental-0.0.8-py3-none-any.whl (65 kB)\n",
            "\u001b[2K     \u001b[90m━━━━━━━━━━━━━━━━━━━━━━━━━━━━━━━━━━━━━━━━\u001b[0m \u001b[32m65.5/65.5 kB\u001b[0m \u001b[31m3.0 MB/s\u001b[0m eta \u001b[36m0:00:00\u001b[0m\n",
            "\u001b[?25hRequirement already satisfied: requests>=2.20 in /usr/local/lib/python3.10/dist-packages (from openai) (2.27.1)\n",
            "Requirement already satisfied: tqdm in /usr/local/lib/python3.10/dist-packages (from openai) (4.65.0)\n",
            "Requirement already satisfied: aiohttp in /usr/local/lib/python3.10/dist-packages (from openai) (3.8.5)\n",
            "Collecting langchain>=0.0.239 (from langchain_experimental)\n",
            "  Downloading langchain-0.0.250-py3-none-any.whl (1.4 MB)\n",
            "\u001b[2K     \u001b[90m━━━━━━━━━━━━━━━━━━━━━━━━━━━━━━━━━━━━━━━━\u001b[0m \u001b[32m1.4/1.4 MB\u001b[0m \u001b[31m9.7 MB/s\u001b[0m eta \u001b[36m0:00:00\u001b[0m\n",
            "\u001b[?25hRequirement already satisfied: PyYAML>=5.4.1 in /usr/local/lib/python3.10/dist-packages (from langchain>=0.0.239->langchain_experimental) (6.0.1)\n",
            "Requirement already satisfied: SQLAlchemy<3,>=1.4 in /usr/local/lib/python3.10/dist-packages (from langchain>=0.0.239->langchain_experimental) (2.0.19)\n",
            "Requirement already satisfied: async-timeout<5.0.0,>=4.0.0 in /usr/local/lib/python3.10/dist-packages (from langchain>=0.0.239->langchain_experimental) (4.0.2)\n",
            "Collecting dataclasses-json<0.6.0,>=0.5.7 (from langchain>=0.0.239->langchain_experimental)\n",
            "  Downloading dataclasses_json-0.5.14-py3-none-any.whl (26 kB)\n",
            "Collecting langsmith<0.1.0,>=0.0.11 (from langchain>=0.0.239->langchain_experimental)\n",
            "  Downloading langsmith-0.0.16-py3-none-any.whl (29 kB)\n",
            "Requirement already satisfied: numexpr<3.0.0,>=2.8.4 in /usr/local/lib/python3.10/dist-packages (from langchain>=0.0.239->langchain_experimental) (2.8.4)\n",
            "Requirement already satisfied: numpy<2,>=1 in /usr/local/lib/python3.10/dist-packages (from langchain>=0.0.239->langchain_experimental) (1.22.4)\n",
            "Collecting openapi-schema-pydantic<2.0,>=1.2 (from langchain>=0.0.239->langchain_experimental)\n",
            "  Downloading openapi_schema_pydantic-1.2.4-py3-none-any.whl (90 kB)\n",
            "\u001b[2K     \u001b[90m━━━━━━━━━━━━━━━━━━━━━━━━━━━━━━━━━━━━━━━━\u001b[0m \u001b[32m90.0/90.0 kB\u001b[0m \u001b[31m7.8 MB/s\u001b[0m eta \u001b[36m0:00:00\u001b[0m\n",
            "\u001b[?25hRequirement already satisfied: pydantic<2,>=1 in /usr/local/lib/python3.10/dist-packages (from langchain>=0.0.239->langchain_experimental) (1.10.12)\n",
            "Requirement already satisfied: tenacity<9.0.0,>=8.1.0 in /usr/local/lib/python3.10/dist-packages (from langchain>=0.0.239->langchain_experimental) (8.2.2)\n",
            "Requirement already satisfied: attrs>=17.3.0 in /usr/local/lib/python3.10/dist-packages (from aiohttp->openai) (23.1.0)\n",
            "Requirement already satisfied: charset-normalizer<4.0,>=2.0 in /usr/local/lib/python3.10/dist-packages (from aiohttp->openai) (2.0.12)\n",
            "Requirement already satisfied: multidict<7.0,>=4.5 in /usr/local/lib/python3.10/dist-packages (from aiohttp->openai) (6.0.4)\n",
            "Requirement already satisfied: yarl<2.0,>=1.0 in /usr/local/lib/python3.10/dist-packages (from aiohttp->openai) (1.9.2)\n",
            "Requirement already satisfied: frozenlist>=1.1.1 in /usr/local/lib/python3.10/dist-packages (from aiohttp->openai) (1.4.0)\n",
            "Requirement already satisfied: aiosignal>=1.1.2 in /usr/local/lib/python3.10/dist-packages (from aiohttp->openai) (1.3.1)\n",
            "Requirement already satisfied: urllib3<1.27,>=1.21.1 in /usr/local/lib/python3.10/dist-packages (from requests>=2.20->openai) (1.26.16)\n",
            "Requirement already satisfied: certifi>=2017.4.17 in /usr/local/lib/python3.10/dist-packages (from requests>=2.20->openai) (2023.7.22)\n",
            "Requirement already satisfied: idna<4,>=2.5 in /usr/local/lib/python3.10/dist-packages (from requests>=2.20->openai) (3.4)\n",
            "Collecting marshmallow<4.0.0,>=3.18.0 (from dataclasses-json<0.6.0,>=0.5.7->langchain>=0.0.239->langchain_experimental)\n",
            "  Downloading marshmallow-3.20.1-py3-none-any.whl (49 kB)\n",
            "\u001b[2K     \u001b[90m━━━━━━━━━━━━━━━━━━━━━━━━━━━━━━━━━━━━━━━━\u001b[0m \u001b[32m49.4/49.4 kB\u001b[0m \u001b[31m3.4 MB/s\u001b[0m eta \u001b[36m0:00:00\u001b[0m\n",
            "\u001b[?25hCollecting typing-inspect<1,>=0.4.0 (from dataclasses-json<0.6.0,>=0.5.7->langchain>=0.0.239->langchain_experimental)\n",
            "  Downloading typing_inspect-0.9.0-py3-none-any.whl (8.8 kB)\n",
            "Requirement already satisfied: typing-extensions>=4.2.0 in /usr/local/lib/python3.10/dist-packages (from pydantic<2,>=1->langchain>=0.0.239->langchain_experimental) (4.7.1)\n",
            "Requirement already satisfied: greenlet!=0.4.17 in /usr/local/lib/python3.10/dist-packages (from SQLAlchemy<3,>=1.4->langchain>=0.0.239->langchain_experimental) (2.0.2)\n",
            "Requirement already satisfied: packaging>=17.0 in /usr/local/lib/python3.10/dist-packages (from marshmallow<4.0.0,>=3.18.0->dataclasses-json<0.6.0,>=0.5.7->langchain>=0.0.239->langchain_experimental) (23.1)\n",
            "Collecting mypy-extensions>=0.3.0 (from typing-inspect<1,>=0.4.0->dataclasses-json<0.6.0,>=0.5.7->langchain>=0.0.239->langchain_experimental)\n",
            "  Downloading mypy_extensions-1.0.0-py3-none-any.whl (4.7 kB)\n",
            "Installing collected packages: python-dotenv, mypy-extensions, marshmallow, typing-inspect, openapi-schema-pydantic, langsmith, openai, dataclasses-json, langchain, langchain_experimental\n",
            "Successfully installed dataclasses-json-0.5.14 langchain-0.0.250 langchain_experimental-0.0.8 langsmith-0.0.16 marshmallow-3.20.1 mypy-extensions-1.0.0 openai-0.27.8 openapi-schema-pydantic-1.2.4 python-dotenv-1.0.0 typing-inspect-0.9.0\n"
          ]
        }
      ]
    },
    {
      "cell_type": "code",
      "source": [
        "# google colab\n",
        "from google.colab import drive\n",
        "drive.mount('/content/drive')"
      ],
      "metadata": {
        "id": "bgnnHhE4Obg-",
        "outputId": "5c10e70b-aa82-4091-f314-6e0b67a4c1e7",
        "colab": {
          "base_uri": "https://localhost:8080/"
        }
      },
      "execution_count": 4,
      "outputs": [
        {
          "output_type": "stream",
          "name": "stdout",
          "text": [
            "Mounted at /content/drive\n"
          ]
        }
      ]
    },
    {
      "cell_type": "code",
      "execution_count": 28,
      "metadata": {
        "execution": {
          "iopub.execute_input": "2023-07-31T09:35:01.157244Z",
          "iopub.status.busy": "2023-07-31T09:35:01.156817Z",
          "iopub.status.idle": "2023-07-31T09:35:03.084966Z",
          "shell.execute_reply": "2023-07-31T09:35:03.084247Z",
          "shell.execute_reply.started": "2023-07-31T09:35:01.157172Z"
        },
        "tags": [],
        "id": "hPxypDgfNctZ"
      },
      "outputs": [],
      "source": [
        "from langchain import SQLDatabase\n",
        "from langchain_experimental.sql import SQLDatabaseChain\n",
        "from langchain.agents import initialize_agent, Tool\n",
        "from langchain.agents import AgentType\n",
        "from langchain.chat_models import ChatOpenAI\n",
        "\n",
        "# from rw_formula import RW_Calc\n",
        "\n",
        "# google colab\n",
        "import sys\n",
        "sys.path.append(\"/content/drive/MyDrive/chat-db\")\n",
        "from rw_formula import RW_Calc"
      ]
    },
    {
      "cell_type": "code",
      "execution_count": null,
      "metadata": {
        "execution": {
          "iopub.execute_input": "2023-07-31T09:35:05.780837Z",
          "iopub.status.busy": "2023-07-31T09:35:05.780318Z",
          "iopub.status.idle": "2023-07-31T09:35:05.788421Z",
          "shell.execute_reply": "2023-07-31T09:35:05.787834Z",
          "shell.execute_reply.started": "2023-07-31T09:35:05.780810Z"
        },
        "tags": [],
        "id": "HlHYm094Nctc"
      },
      "outputs": [],
      "source": [
        "import os\n",
        "from dotenv import load_dotenv\n",
        "load_dotenv()\n",
        "OPENAI_API_KEY = os.getenv('OPENAI_API_KEY')"
      ]
    },
    {
      "cell_type": "code",
      "source": [
        "# google colab\n",
        "from dotenv import load_dotenv\n",
        "load_dotenv('/content/drive/MyDrive/chat-db/.env')"
      ],
      "metadata": {
        "id": "YxFvRuWSR5hQ",
        "outputId": "1ccabe3e-1714-4970-8c7f-c0054ed9ba26",
        "colab": {
          "base_uri": "https://localhost:8080/"
        }
      },
      "execution_count": 17,
      "outputs": [
        {
          "output_type": "execute_result",
          "data": {
            "text/plain": [
              "True"
            ]
          },
          "metadata": {},
          "execution_count": 17
        }
      ]
    },
    {
      "cell_type": "code",
      "source": [
        "# google colab\n",
        "llm = ChatOpenAI(temperature=0, model=\"gpt-3.5-turbo-0613\")\n",
        "db = SQLDatabase.from_uri(\"sqlite:////content/drive/MyDrive/chat-db/rwa_data.db\") # google colab\n",
        "db = SQLDatabase.from_uri(\"sqlite:///./rwa_data.db\")\n",
        "db_chain = SQLDatabaseChain.from_llm(llm, db, verbose=True)\n",
        "tools = [\n",
        "    Tool(\n",
        "        name=\"rwa_db\",\n",
        "        func=db_chain.run,\n",
        "        description=\"useful for quering a database\"\n",
        "    )\n",
        "]"
      ],
      "metadata": {
        "id": "N1jmC6xmSR6w"
      },
      "execution_count": 21,
      "outputs": []
    },
    {
      "cell_type": "code",
      "execution_count": 22,
      "metadata": {
        "execution": {
          "iopub.execute_input": "2023-07-31T09:35:08.085085Z",
          "iopub.status.busy": "2023-07-31T09:35:08.084693Z",
          "iopub.status.idle": "2023-07-31T09:35:08.089234Z",
          "shell.execute_reply": "2023-07-31T09:35:08.088456Z",
          "shell.execute_reply.started": "2023-07-31T09:35:08.085062Z"
        },
        "tags": [],
        "id": "vH3bxz3ANctd"
      },
      "outputs": [],
      "source": [
        "agent = initialize_agent(\n",
        "    tools,\n",
        "    llm,\n",
        "    agent=\"zero-shot-react-description\",\n",
        "    verbose=False,\n",
        "    handle_parsing_errors=True\n",
        ")"
      ]
    },
    {
      "cell_type": "code",
      "execution_count": 23,
      "metadata": {
        "execution": {
          "iopub.execute_input": "2023-07-31T09:35:09.272690Z",
          "iopub.status.busy": "2023-07-31T09:35:09.272329Z",
          "iopub.status.idle": "2023-07-31T09:35:19.770302Z",
          "shell.execute_reply": "2023-07-31T09:35:19.769603Z",
          "shell.execute_reply.started": "2023-07-31T09:35:09.272667Z"
        },
        "tags": [],
        "id": "0yg20E5WNctd",
        "outputId": "8a2b33f3-7b44-4c5c-88f4-13aa7db6e0f2",
        "colab": {
          "base_uri": "https://localhost:8080/",
          "height": 279
        }
      },
      "outputs": [
        {
          "output_type": "stream",
          "name": "stdout",
          "text": [
            "\n",
            "\n",
            "\u001b[1m> Entering new SQLDatabaseChain chain...\u001b[0m\n",
            "SELECT SEGMENT, SUM(RWA), SUM(EAD) FROM RWA_122022 GROUP BY SEGMENT\n",
            "SQLQuery:\u001b[32;1m\u001b[1;3mSELECT \"SEGMENT\", SUM(\"RWA\"), SUM(\"EAD\") FROM \"RWA_122022\" GROUP BY \"SEGMENT\"\u001b[0m\n",
            "SQLResult: \u001b[33;1m\u001b[1;3m[('Corporate', 85075812.12498187, 156657332.34921697), ('Retail', 37806680.90001285, 165698955.81288758)]\u001b[0m\n",
            "Answer:\u001b[32;1m\u001b[1;3mSegment: Corporate\n",
            "Total RWA: 85,075,812.12\n",
            "Total EAD: 156,657,332.35\n",
            "\n",
            "Segment: Retail\n",
            "Total RWA: 37,806,680.90\n",
            "Total EAD: 165,698,955.81\u001b[0m\n",
            "\u001b[1m> Finished chain.\u001b[0m\n"
          ]
        },
        {
          "output_type": "execute_result",
          "data": {
            "text/plain": [
              "'The total RWA and EAD per segment from the RWA_122022 table are as follows:\\n- Segment: Corporate\\n  - Total RWA: 85,075,812.12\\n  - Total EAD: 156,657,332.35\\n- Segment: Retail\\n  - Total RWA: 37,806,680.90\\n  - Total EAD: 165,698,955.81'"
            ],
            "application/vnd.google.colaboratory.intrinsic+json": {
              "type": "string"
            }
          },
          "metadata": {},
          "execution_count": 23
        }
      ],
      "source": [
        "agent.run(\"Report the total RWA and EAD per SEGMENT from RWA_122022 table\")"
      ]
    },
    {
      "cell_type": "code",
      "execution_count": 24,
      "metadata": {
        "execution": {
          "iopub.execute_input": "2023-07-31T09:35:22.174237Z",
          "iopub.status.busy": "2023-07-31T09:35:22.173706Z",
          "iopub.status.idle": "2023-07-31T09:35:41.952097Z",
          "shell.execute_reply": "2023-07-31T09:35:41.951261Z",
          "shell.execute_reply.started": "2023-07-31T09:35:22.174201Z"
        },
        "tags": [],
        "id": "yPKP-ugZNcte",
        "outputId": "22656ec2-6803-4e55-b96a-626c71ab1fa6",
        "colab": {
          "base_uri": "https://localhost:8080/",
          "height": 334
        }
      },
      "outputs": [
        {
          "output_type": "stream",
          "name": "stdout",
          "text": [
            "\n",
            "\n",
            "\u001b[1m> Entering new SQLDatabaseChain chain...\u001b[0m\n",
            "SELECT ACCOUNT_NUMBER FROM RWA_122022 WHERE STATUS = 'Performing' AND ACCOUNT_NUMBER IN (SELECT ACCOUNT_NUMBER FROM RWA_032023 WHERE STATUS = 'Non Performing')\n",
            "SQLQuery:\u001b[32;1m\u001b[1;3mSELECT \"ACCOUNT_NUMBER\" FROM \"RWA_122022\" WHERE \"STATUS\" = 'Performing' AND \"ACCOUNT_NUMBER\" IN (SELECT \"ACCOUNT_NUMBER\" FROM \"RWA_032023\" WHERE \"STATUS\" = 'Non Performing')\u001b[0m\n",
            "SQLResult: \u001b[33;1m\u001b[1;3m[('9949846894mqqb38',), ('8589346566omjm76',), ('3939009254tfzg85',), ('6572063347hjeb20',), ('8888826809jvcg55',), ('2495047535ewfk71',), ('3327992248wyhg31',), ('4271177801gmpp50',), ('4659898429miyb20',), ('4712033057jwab19',), ('9960431785dctn31',), ('2129961401ercj54',)]\u001b[0m\n",
            "Answer:\u001b[32;1m\u001b[1;3mThere are 12 account numbers in the RWA_122022 table that have a status of 'Performing' and are also present in the RWA_032023 table with a status of 'Non Performing'.\u001b[0m\n",
            "\u001b[1m> Finished chain.\u001b[0m\n",
            "\n",
            "\n",
            "\u001b[1m> Entering new SQLDatabaseChain chain...\u001b[0m\n",
            "SELECT SUM(EXPOSURE) FROM RWA_122022 WHERE ACCOUNT_NUMBER IN (SELECT ACCOUNT_NUMBER FROM RWA_122022 WHERE STATUS = 'Performing' AND ACCOUNT_NUMBER IN (SELECT ACCOUNT_NUMBER FROM RWA_032023 WHERE STATUS = 'Non Performing'))\n",
            "SQLQuery:\u001b[32;1m\u001b[1;3mSELECT SUM(\"EXPOSURE\") FROM \"RWA_122022\" WHERE \"ACCOUNT_NUMBER\" IN (SELECT \"ACCOUNT_NUMBER\" FROM \"RWA_122022\" WHERE \"STATUS\" = 'Performing' AND \"ACCOUNT_NUMBER\" IN (SELECT \"ACCOUNT_NUMBER\" FROM \"RWA_032023\" WHERE \"STATUS\" = 'Non Performing'))\u001b[0m\n",
            "SQLResult: \u001b[33;1m\u001b[1;3m[(575151.3173016,)]\u001b[0m\n",
            "Answer:\u001b[32;1m\u001b[1;3m575151.3173016\u001b[0m\n",
            "\u001b[1m> Finished chain.\u001b[0m\n"
          ]
        },
        {
          "output_type": "execute_result",
          "data": {
            "text/plain": [
              "'The sum of all EXPOSURE in RWA_122022 for all ACCOUNT_NUMBER whose STATUS changed from Performing to Non Performing between RWA_122022 table and RWA_032023 table is 575151.3173016.'"
            ],
            "application/vnd.google.colaboratory.intrinsic+json": {
              "type": "string"
            }
          },
          "metadata": {},
          "execution_count": 24
        }
      ],
      "source": [
        "agent.run(\"What is the sum of all EXPOSURE in RWA_122022 for all ACCOUNT_NUMBER whose STATUS changed from Performing to Non Performing between RWA_122022 table and RWA_032023 table\")"
      ]
    },
    {
      "cell_type": "code",
      "execution_count": null,
      "metadata": {
        "id": "kPVUOly6Ncte"
      },
      "outputs": [],
      "source": []
    },
    {
      "cell_type": "code",
      "execution_count": 25,
      "metadata": {
        "execution": {
          "iopub.execute_input": "2023-07-31T09:35:43.222539Z",
          "iopub.status.busy": "2023-07-31T09:35:43.222177Z",
          "iopub.status.idle": "2023-07-31T09:35:43.234019Z",
          "shell.execute_reply": "2023-07-31T09:35:43.233340Z",
          "shell.execute_reply.started": "2023-07-31T09:35:43.222515Z"
        },
        "id": "eS1VDFfBNctf"
      },
      "outputs": [],
      "source": [
        "llm = ChatOpenAI(temperature=0, model=\"gpt-3.5-turbo-0613\")\n",
        "db = SQLDatabase.from_uri(\"sqlite:////content/drive/MyDrive/chat-db/rwa_data.db\") # google colab\n",
        "db = SQLDatabase.from_uri(\"sqlite:///./rwa_data.db\")\n",
        "db_chain = SQLDatabaseChain.from_llm(llm, db, verbose=True)\n",
        "tools = [\n",
        "    Tool(\n",
        "        name=\"risk weight calculator\",\n",
        "        func=RW_Calc,\n",
        "        description=\n",
        "        \"\"\"calculates a loan risk weight give the argulamts:\n",
        "        Segment - Possible values are 'Bank', 'Corporate', and 'Retail'),\n",
        "        PD - Probability of Default\n",
        "        LGD - Loss Given Default\n",
        "        m - Remaining maturity of the loan in years\n",
        "        Large_Fin - If 'Y' the client is a Flag for Large Financial Institution, otherwise 'N'\n",
        "        size - size of the client in MEUR, usually this is the client's turnover\n",
        "        mortgage - If 'Y' the exposure is a mortgage loan, otherwise 'N'\n",
        "        revolving - If 'Y' the exposure is a revolving loan, otherwise 'N'\n",
        "        \"\"\"\n",
        "    ),\n",
        "    Tool(\n",
        "        name=\"rwa_db\",\n",
        "        func=db_chain.run,\n",
        "        description=\"useful for quering a database\"\n",
        "    )\n",
        "]"
      ]
    },
    {
      "cell_type": "code",
      "execution_count": 26,
      "metadata": {
        "execution": {
          "iopub.execute_input": "2023-07-31T09:35:45.484630Z",
          "iopub.status.busy": "2023-07-31T09:35:45.484269Z",
          "iopub.status.idle": "2023-07-31T09:35:45.488486Z",
          "shell.execute_reply": "2023-07-31T09:35:45.487835Z",
          "shell.execute_reply.started": "2023-07-31T09:35:45.484606Z"
        },
        "id": "2Ui8alwiNctg"
      },
      "outputs": [],
      "source": [
        "agent = initialize_agent(\n",
        "    tools,\n",
        "    llm,\n",
        "    agent=\"zero-shot-react-description\",\n",
        "    verbose=False,\n",
        "    handle_parsing_errors=True\n",
        ")"
      ]
    },
    {
      "cell_type": "code",
      "execution_count": 27,
      "metadata": {
        "execution": {
          "iopub.execute_input": "2023-07-31T09:35:47.973763Z",
          "iopub.status.busy": "2023-07-31T09:35:47.973378Z",
          "iopub.status.idle": "2023-07-31T09:36:05.175614Z",
          "shell.execute_reply": "2023-07-31T09:36:05.174821Z",
          "shell.execute_reply.started": "2023-07-31T09:35:47.973738Z"
        },
        "id": "XyGj00K4Nctg",
        "outputId": "5b36913d-5a2c-4504-9ecf-aff378618fc4",
        "colab": {
          "base_uri": "https://localhost:8080/",
          "height": 487
        }
      },
      "outputs": [
        {
          "output_type": "stream",
          "name": "stdout",
          "text": [
            "\n",
            "\n",
            "\u001b[1m> Entering new SQLDatabaseChain chain...\u001b[0m\n",
            "SELECT * FROM RWA_122022 WHERE Client = 'sfman997ux8036'\n",
            "SQLQuery:\u001b[32;1m\u001b[1;3mSELECT * FROM RWA_122022 WHERE CLIENT_NUMBER = 'sfman997ux8036'\u001b[0m\n",
            "SQLResult: \u001b[33;1m\u001b[1;3m[('sfman997ux8036', '1324710203qiph20', 'CREDIT_CARD', 'Performing', 'Retail', 0.0, 18728.13876, 18728.13876, 11004.65713, 0.0, 0.0246518, 0.3092, 42.58029755, 1.15616438, 'N', 'Y', 'N', 0.245013691, 2696.291657)]\u001b[0m\n",
            "Answer:\u001b[32;1m\u001b[1;3mCLIENT_NUMBER: sfman997ux8036\n",
            "ACCOUNT_NUMBER: 1324710203qiph20\n",
            "PRODUCT: CREDIT_CARD\n",
            "STATUS: Performing\n",
            "SEGMENT: Retail\n",
            "EXPOSURE_DRAWN: 0.0\n",
            "EXPOSURE_UNDRAWN: 18728.13876\n",
            "EXPOSURE: 18728.13876\n",
            "EAD: 11004.65713\n",
            "EAD_COLL: 0.0\n",
            "PD: 0.0246518\n",
            "LGD: 0.3092\n",
            "SIZE: 42.58029755\n",
            "MATURITY: 1.15616438\n",
            "F_MORTGAGE: N\n",
            "F_REVOLVING: Y\n",
            "F_LARGE_FIN: N\n",
            "RW: 0.245013691\n",
            "RWA: 2696.291657\u001b[0m\n",
            "\u001b[1m> Finished chain.\u001b[0m\n"
          ]
        },
        {
          "output_type": "execute_result",
          "data": {
            "text/plain": [
              "'0.3950618648985617'"
            ],
            "application/vnd.google.colaboratory.intrinsic+json": {
              "type": "string"
            }
          },
          "metadata": {},
          "execution_count": 27
        }
      ],
      "source": [
        "agent.run(\"Read the information for Client 'sfman997ux8036' in RWA_122022 table and then calculate the RW if PD doubles\")"
      ]
    },
    {
      "cell_type": "code",
      "execution_count": null,
      "metadata": {
        "id": "Mp32o_NaNctg"
      },
      "outputs": [],
      "source": []
    }
  ],
  "metadata": {
    "kernelspec": {
      "display_name": "saturn (Python 3)",
      "language": "python",
      "name": "python3"
    },
    "language_info": {
      "codemirror_mode": {
        "name": "ipython",
        "version": 3
      },
      "file_extension": ".py",
      "mimetype": "text/x-python",
      "name": "python",
      "nbconvert_exporter": "python",
      "pygments_lexer": "ipython3",
      "version": "3.9.13"
    },
    "colab": {
      "provenance": []
    }
  },
  "nbformat": 4,
  "nbformat_minor": 0
}